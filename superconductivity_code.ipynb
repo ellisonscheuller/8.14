{
 "cells": [
  {
   "cell_type": "code",
   "execution_count": 20,
   "metadata": {},
   "outputs": [],
   "source": [
    "from scipy.stats import norm\n",
    "import matplotlib.mlab as mlab\n",
    "import matplotlib.pyplot as plt\n",
    "import numpy as np\n",
    "from matplotlib import colors\n",
    "from matplotlib.ticker import PercentFormatter\n",
    "from lmfit.models import LinearModel\n",
    "import csv\n",
    "from lmfit import Model"
   ]
  },
  {
   "cell_type": "code",
   "execution_count": 21,
   "metadata": {},
   "outputs": [],
   "source": [
    "table_voltage = [1.69812, 1.69521, 1.69177, 1.68786, 1.68352, 1.67880, 1.67376, 1.66845, 1.66292, 1.65721, 1.65134, 1.64529, 1.63905, 1.63263, 1.62602, 1.61920, 1.61220, 1.60506, 1.59782, 1.57928, 1.56027, 1.54097, 1.52166, 1.50272, 1.48443, 1.46700, 1.45048, 1.43488, 1.42013, 1.40615, 1.39287, 1.38021, 1.36809, 1.35647, 1.34530, 1.33453, 1.32412, 1.31403, 1.30422, 1.29464, 1.28527, 1.27607, 1.26702, 1.25810, 1.24928, 1.24053, 1.23184, 1.22314, 1.21440, 1.17705, 1.15558, 1.13598, 1.12463, 1.11896, 1.11517, 1.11212, 1.10945, 1.10702, 1.10263, 1.09864, 1.09490, 1.09131, 1.08781, 1.08436, 1.08093, 1.07748, 1.07402, 1.07053, 1.06700, 1.06346, 1.05988, 1.05629, 1.05267, 1.04353, 1.03425, 1.02482, 1.01525, 1.00552, 0.99565, 0.98564, 0.97550, 0.95487, 0.93383, 0.91243, 0.89072, 0.86873, 0.84650, 0.82404, 0.80138, 0.77855, 0.75554, 0.73238, 0.70908, 0.68564, 0.66208, 0.63841, 0.61465, 0.59080, 0.56690, 0.54294, 0.51892, 0.49484]\n",
    "table_temperature = [1.4, 1.6, 1.8, 2, 2.2, 2.4, 2.6, 2.8, 3, 3.2, 3.4, 3.6, 3.8, 4, 4.2, 4.4, 4.6, 4.8, 5, 5.5, 6, 6.5, 7, 7.5, 8, 8.5, 9, 9.5, 10, 10.5,11, 11.5, 12, 12.5, 13, 13.5, 14, 14.5, 15, 15.5, 16, 16.5, 17, 17.5, 18, 18.5, 19, 19.5, 20, 21, 22, 23, 24, 25, 26, 27, 28, 29, 30, 32, 34, 36, 38, 40, 42, 44, 46, 48, 50, 52, 54, 56, 58, 60, 65, 70, 75, 80, 85, 90, 95, 100, 110, 120, 130, 140, 150, 160, 170, 180, 190, 200, 210, 220, 230, 240, 250, 260, 270, 280, 290, 300]"
   ]
  },
  {
   "cell_type": "code",
   "execution_count": null,
   "metadata": {},
   "outputs": [],
   "source": []
  },
  {
   "cell_type": "code",
   "execution_count": 22,
   "metadata": {},
   "outputs": [
    {
     "name": "stdout",
     "output_type": "stream",
     "text": [
      "[[Model]]\n",
      "    Model(three_lines)\n",
      "[[Fit Statistics]]\n",
      "    # fitting method   = leastsq\n",
      "    # function evals   = 37\n",
      "    # data points      = 102\n",
      "    # variables        = 8\n",
      "    chi-square         = 88.9580561\n",
      "    reduced chi-square = 0.94636230\n",
      "    Akaike info crit   = 2.04560084\n",
      "    Bayesian info crit = 23.0453833\n",
      "##  Warning: uncertainties could not be estimated:\n",
      "    x_breakpoint1:  at initial value\n",
      "    x_breakpoint2:  at initial value\n",
      "[[Variables]]\n",
      "    slope1:        -432.095658 (init = 1)\n",
      "    intercept1:     515.363220 (init = 1)\n",
      "    slope2:        -495.057569 (init = 1)\n",
      "    intercept2:     577.579315 (init = 1)\n",
      "    slope3:        -36.0753584 (init = 1)\n",
      "    intercept3:     62.4662937 (init = 1)\n",
      "    x_breakpoint1:  1.00000000 (init = 1)\n",
      "    x_breakpoint2:  1.13000000 (init = 1.13)\n"
     ]
    },
    {
     "data": {
      "image/png": "[encoded data removed]",
      "text/plain": [
       "<Figure size 432x288 with 1 Axes>"
      ]
     },
     "metadata": {
      "needs_background": "light"
     },
     "output_type": "display_data"
    }
   ],
   "source": [
    "import matplotlib.pyplot as plt\n",
    "from lmfit import Model\n",
    "import numpy as np\n",
    "\n",
    "# Assuming you have the data in the variables table_voltage and table_temperature\n",
    "\n",
    "# Define the three-line model function\n",
    "def three_lines(x, slope1, intercept1, slope2, intercept2, slope3, intercept3, x_breakpoint1, x_breakpoint2):\n",
    "    return np.piecewise(x, [x < x_breakpoint1, (x >= x_breakpoint1) & (x < x_breakpoint2), x >= x_breakpoint2],\n",
    "                        [lambda x: slope1 * x + intercept1,\n",
    "                         lambda x: slope2 * x + intercept2,\n",
    "                         lambda x: slope3 * x + intercept3])\n",
    "\n",
    "# Create an lmfit model from the function\n",
    "model = Model(three_lines)\n",
    "\n",
    "# Set initial parameter values\n",
    "params = model.make_params(slope1=1, intercept1=1, slope2=1, intercept2=1, slope3=1, intercept3=1, x_breakpoint1=1, x_breakpoint2=1.13)\n",
    "\n",
    "# Fit the model to the data\n",
    "result = model.fit(table_temperature, x=table_voltage, params=params)\n",
    "\n",
    "# Print the fit report\n",
    "print(result.fit_report())\n",
    "\n",
    "# Plot the data and the fitted lines\n",
    "plt.plot(table_voltage, table_temperature, 'o', color='black', label='Data')\n",
    "plt.plot(table_voltage, result.best_fit, label='Fit')\n",
    "plt.ylabel(r\"Temp (K)\")\n",
    "plt.xlabel(r\"Voltage (V)\")\n",
    "plt.title(\"Voltage to Temperature\")\n",
    "plt.legend()\n",
    "plt.show()"
   ]
  },
  {
   "cell_type": "code",
   "execution_count": 23,
   "metadata": {},
   "outputs": [
    {
     "name": "stdout",
     "output_type": "stream",
     "text": [
      "[1.0, 1.09, 1.09, 1.11, 1.2, 1.26, 1.31, 1.37, 1.4, 1.45, 1.5, 1.52, 1.53, 1.54, 1.55, 1.56, 1.57, 1.58, 1.59]\n"
     ]
    }
   ],
   "source": [
    "def read_csv_to_list(file_path):\n",
    "    data_list = []\n",
    "\n",
    "    with open(file_path, 'r') as csvfile:\n",
    "        csv_reader = csv.reader(csvfile)\n",
    "        for row in csv_reader:\n",
    "            data_list.append(row)\n",
    "\n",
    "    return data_list\n",
    "\n",
    "# Example usage:\n",
    "csv_file_path = 'lead_transition.csv'\n",
    "temp_sens_voltage = read_csv_to_list(csv_file_path)\n",
    "\n",
    "volt = []\n",
    "for row in temp_sens_voltage:\n",
    "    for element in row:\n",
    "        volt.append(float(element))\n",
    "\n",
    "print(volt)\n"
   ]
  },
  {
   "cell_type": "code",
   "execution_count": 24,
   "metadata": {},
   "outputs": [
    {
     "name": "stdout",
     "output_type": "stream",
     "text": [
      "[83.26756199999994, 37.96656478999989, 37.96656478999989, 28.065413409999906, 19.17586362, 17.011342116, 15.207574196000003, 13.043052691999996, 11.960791940000007, 10.157024020000001, 8.353256100000003, 7.631748932000001, 7.270995348, 6.9102417639999985, 6.549488180000004, 6.188734596000003, 5.827981012000002, 5.467227428000001, 5.106473844]\n"
     ]
    }
   ],
   "source": [
    "temp = []\n",
    "for i in volt:\n",
    "    if i <= 1:\n",
    "        temp.append(i*-432.095658 + 515.363220)\n",
    "    elif i >= 1 and i <= 1.13:\n",
    "        temp.append(i*-495.057569 + 577.579315)\n",
    "    else:\n",
    "        temp.append(i*-36.0753584 +  62.4662937)\n",
    "\n",
    "print(temp)"
   ]
  },
  {
   "cell_type": "code",
   "execution_count": 25,
   "metadata": {},
   "outputs": [
    {
     "name": "stdout",
     "output_type": "stream",
     "text": [
      "CSV file '03_04_2024.csv' has been created.\n"
     ]
    }
   ],
   "source": [
    "import csv\n",
    "\n",
    "# Specify the file path where you want to save the CSV file\n",
    "csv_file_path = '03_04_2024.csv'\n",
    "\n",
    "# Open the CSV file in write mode\n",
    "with open(csv_file_path, 'w', newline='') as csvfile:\n",
    "    # Create a CSV writer object\n",
    "    csv_writer = csv.writer(csvfile)\n",
    "\n",
    "    # Write each float as a new row\n",
    "    for float_value in temp:\n",
    "        csv_writer.writerow([float_value])\n",
    "\n",
    "print(f\"CSV file '{csv_file_path}' has been created.\")"
   ]
  },
  {
   "cell_type": "code",
   "execution_count": 8,
   "metadata": {},
   "outputs": [
    {
     "name": "stdout",
     "output_type": "stream",
     "text": [
      "[[Model]]\n",
      "    Model(three_lines)\n",
      "[[Fit Statistics]]\n",
      "    # fitting method   = leastsq\n",
      "    # function evals   = 37\n",
      "    # data points      = 102\n",
      "    # variables        = 8\n",
      "    chi-square         = 88.9580561\n",
      "    reduced chi-square = 0.94636230\n",
      "    Akaike info crit   = 2.04560084\n",
      "    Bayesian info crit = 23.0453833\n",
      "##  Warning: uncertainties could not be estimated:\n",
      "    x_breakpoint1:  at initial value\n",
      "    x_breakpoint2:  at initial value\n",
      "[[Variables]]\n",
      "    slope1:        -432.095658 (init = 1)\n",
      "    intercept1:     515.363220 (init = 1)\n",
      "    slope2:        -495.057569 (init = 1)\n",
      "    intercept2:     577.579315 (init = 1)\n",
      "    slope3:        -36.0753584 (init = 1)\n",
      "    intercept3:     62.4662937 (init = 1)\n",
      "    x_breakpoint1:  1.00000000 (init = 1)\n",
      "    x_breakpoint2:  1.13000000 (init = 1.13)\n"
     ]
    },
    {
     "data": {
      "image/png": "[encoded data removed]",
      "text/plain": [
       "<Figure size 432x288 with 1 Axes>"
      ]
     },
     "metadata": {
      "needs_background": "light"
     },
     "output_type": "display_data"
    }
   ],
   "source": [
    "#Niobium\n",
    "\n",
    "# Assuming you have the data in the variables table_voltage and table_temperature\n",
    "\n",
    "# Define the three-line model function\n",
    "def three_lines(x, slope1, intercept1, slope2, intercept2, slope3, intercept3, x_breakpoint1, x_breakpoint2):\n",
    "    return np.piecewise(x, [x < x_breakpoint1, (x >= x_breakpoint1) & (x < x_breakpoint2), x >= x_breakpoint2],\n",
    "                        [lambda x: slope1 * x + intercept1,\n",
    "                         lambda x: slope2 * x + intercept2,\n",
    "                         lambda x: slope3 * x + intercept3])\n",
    "\n",
    "# Create an lmfit model from the function\n",
    "model = Model(three_lines)\n",
    "\n",
    "# Set initial parameter values\n",
    "params = model.make_params(slope1=1, intercept1=1, slope2=1, intercept2=1, slope3=1, intercept3=1, x_breakpoint1=1, x_breakpoint2=1.13)\n",
    "\n",
    "# Fit the model to the data\n",
    "result = model.fit(table_temperature, x=table_voltage, params=params)\n",
    "\n",
    "# Print the fit report\n",
    "print(result.fit_report())\n",
    "\n",
    "# Plot the data and the fitted lines\n",
    "plt.plot(table_voltage, table_temperature, 'o', color='black', label='Data')\n",
    "plt.plot(table_voltage, result.best_fit, label='Fit')\n",
    "plt.ylabel(r\"Temp (K)\")\n",
    "plt.xlabel(r\"Voltage (V)\")\n",
    "plt.title(\"Voltage to Temperature\")\n",
    "plt.legend()\n",
    "plt.show()"
   ]
  },
  {
   "cell_type": "code",
   "execution_count": 72,
   "metadata": {},
   "outputs": [
    {
     "name": "stderr",
     "output_type": "stream",
     "text": [
      "No artists with labels found to put in legend.  Note that artists whose label start with an underscore are ignored when legend() is called with no argument.\n"
     ]
    },
    {
     "name": "stdout",
     "output_type": "stream",
     "text": [
      "[[Model]]\n",
      "    Model(logistic_curve)\n",
      "[[Fit Statistics]]\n",
      "    # fitting method   = leastsq\n",
      "    # function evals   = 78\n",
      "    # data points      = 15\n",
      "    # variables        = 4\n",
      "    chi-square         = 569.274898\n",
      "    reduced chi-square = 51.7522634\n",
      "    Akaike info crit   = 62.5446986\n",
      "    Bayesian info crit = 65.3768994\n",
      "[[Variables]]\n",
      "    a:  27.2428151 +/- 9.10570900 (33.42%) (init = 82)\n",
      "    b:  14.9451615 +/- 2.32160169 (15.53%) (init = 17)\n",
      "    c:  0.49403688 +/- 0.43151738 (87.35%) (init = 0.1)\n",
      "    d:  52.7814204 +/- 7.86962054 (14.91%) (init = 54)\n",
      "[[Correlations]] (unreported correlations are < 0.100)\n",
      "    C(a, d) = -0.901\n",
      "    C(b, d) = 0.742\n",
      "    C(b, c) = 0.726\n",
      "    C(a, c) = -0.641\n",
      "    C(c, d) = 0.589\n",
      "    C(a, b) = -0.541\n"
     ]
    },
    {
     "data": {
      "image/png": "[encoded data removed]",
      "text/plain": [
       "<Figure size 432x288 with 1 Axes>"
      ]
     },
     "metadata": {
      "needs_background": "light"
     },
     "output_type": "display_data"
    }
   ],
   "source": [
    "import csv\n",
    "import matplotlib.pyplot as plt\n",
    "import numpy as np\n",
    "from lmfit import Model\n",
    "\n",
    "def plot_csv_and_fit_logistic_curve(csv_file_path):\n",
    "    x_values = []\n",
    "    y_values = []\n",
    "\n",
    "    with open(csv_file_path, 'r') as csv_file:\n",
    "        csv_reader = csv.DictReader(csv_file)\n",
    "        for row in csv_reader:\n",
    "            # Assuming the CSV has columns 'x' and 'y', modify if needed\n",
    "            x_values.append(float(row['x']))\n",
    "            y_values.append(float(row['y']))\n",
    "\n",
    "    # Plotting the original data\n",
    "    plt.plot(x_values, y_values, marker='o', linestyle='', color = 'black')\n",
    "    plt.title('Niobium Day 1')\n",
    "    plt.xlabel('Temperature (K)')\n",
    "    plt.ylabel('Test Coil Voltage (mV)')\n",
    "    plt.grid(True)\n",
    "\n",
    "    # Define the logistic curve model function\n",
    "    def logistic_curve(x, a, b, c, d):\n",
    "        return a / (1 + np.exp(-c * (x - b))) + d\n",
    "\n",
    "    # Create a lmfit model using the logistic curve function\n",
    "    model = Model(logistic_curve)\n",
    "\n",
    "    # Set initial parameter values\n",
    "    params = model.make_params(a=max(y_values), b=17, c=0.1, d=min(y_values))\n",
    "\n",
    "    # Fit the model to the data\n",
    "    result = model.fit(y_values, params, x=x_values, method='leastsq')\n",
    "\n",
    "    # Print fitting results\n",
    "    print(result.fit_report())\n",
    "\n",
    "    # Plot the fitted logistic curve\n",
    "    # x_fit = np.linspace(min(x_values), max(x_values), 100)\n",
    "    # y_fit = result.eval(x=x_fit)\n",
    "    # plt.plot(x_fit, y_fit, color='red')\n",
    "\n",
    "    plt.legend()\n",
    "    plt.show()\n",
    "\n",
    "# Replace 'temp_data_2_15.csv' with the path to your CSV file\n",
    "csv_file_path = 'temp_data_2_15.csv'\n",
    "plot_csv_and_fit_logistic_curve(csv_file_path)\n"
   ]
  },
  {
   "cell_type": "code",
   "execution_count": 75,
   "metadata": {},
   "outputs": [
    {
     "name": "stderr",
     "output_type": "stream",
     "text": [
      "No artists with labels found to put in legend.  Note that artists whose label start with an underscore are ignored when legend() is called with no argument.\n"
     ]
    },
    {
     "name": "stdout",
     "output_type": "stream",
     "text": [
      "[[Model]]\n",
      "    Model(logistic_curve)\n",
      "[[Fit Statistics]]\n",
      "    # fitting method   = leastsq\n",
      "    # function evals   = 567\n",
      "    # data points      = 10\n",
      "    # variables        = 4\n",
      "    chi-square         = 314.064640\n",
      "    reduced chi-square = 52.3441066\n",
      "    Akaike info crit   = 42.4701373\n",
      "    Bayesian info crit = 43.6804777\n",
      "[[Variables]]\n",
      "    a:  598.559015 +/- 1966683.40 (328569.67%) (init = 81)\n",
      "    b:  93.6764941 +/- 141302.988 (150841.46%) (init = 20)\n",
      "    c:  0.03269402 +/- 17.7748300 (54367.22%) (init = 0.01)\n",
      "    d:  20.7731926 +/- 13195.2257 (63520.45%) (init = 60)\n",
      "[[Correlations]] (unreported correlations are < 0.100)\n",
      "    C(a, b) = 1.000\n",
      "    C(b, c) = -1.000\n",
      "    C(a, c) = -1.000\n",
      "    C(c, d) = 1.000\n",
      "    C(b, d) = -0.999\n",
      "    C(a, d) = -0.999\n"
     ]
    },
    {
     "data": {
      "image/png": "[encoded data removed]",
      "text/plain": [
       "<Figure size 432x288 with 1 Axes>"
      ]
     },
     "metadata": {
      "needs_background": "light"
     },
     "output_type": "display_data"
    }
   ],
   "source": [
    "import csv\n",
    "import matplotlib.pyplot as plt\n",
    "import numpy as np\n",
    "from lmfit import Model\n",
    "\n",
    "def plot_csv_and_fit_logistic_curve(csv_file_path):\n",
    "    x_values = []\n",
    "    y_values = []\n",
    "\n",
    "    with open(csv_file_path, 'r') as csv_file:\n",
    "        csv_reader = csv.DictReader(csv_file)\n",
    "        for row in csv_reader:\n",
    "            # Assuming the CSV has columns 'x' and 'y', modify if needed\n",
    "            x_values.append(float(row['x']))\n",
    "            y_values.append(float(row['y']))\n",
    "\n",
    "    # Plotting the original data\n",
    "    plt.plot(x_values, y_values, marker='o', linestyle='', color = 'black')\n",
    "    plt.title('Niobium Day 2')\n",
    "    plt.xlabel('Temperature (K)')\n",
    "    plt.ylabel('Test Coil Voltage (mV)')\n",
    "    plt.grid(True)\n",
    "\n",
    "    # Define the logistic curve model function\n",
    "    def logistic_curve(x, a, b, c, d):\n",
    "        return a / (1 + np.exp(-c * (x - b))) + d\n",
    "\n",
    "    # Create a lmfit model using the logistic curve function\n",
    "    model = Model(logistic_curve)\n",
    "\n",
    "    # Set initial parameter values\n",
    "    params = model.make_params(a=max(y_values), b=20, c=0.01, d=min(y_values))\n",
    "\n",
    "    # Fit the model to the data\n",
    "    result = model.fit(y_values, params, x=x_values, method='leastsq')\n",
    "\n",
    "    # Print fitting results\n",
    "    print(result.fit_report())\n",
    "\n",
    "    # Plot the fitted logistic curve\n",
    "    x_fit = np.linspace(min(x_values), max(x_values), 100)\n",
    "    y_fit = result.eval(x=x_fit)\n",
    "    plt.plot(x_fit, y_fit, color='red')\n",
    "\n",
    "    plt.legend()\n",
    "    plt.show()\n",
    "\n",
    "# Replace 'temp_data_2_15.csv' with the path to your CSV file\n",
    "csv_file_path = 'temp_data_day_2.csv'\n",
    "plot_csv_and_fit_logistic_curve(csv_file_path)\n"
   ]
  },
  {
   "cell_type": "code",
   "execution_count": 76,
   "metadata": {},
   "outputs": [
    {
     "name": "stderr",
     "output_type": "stream",
     "text": [
      "No artists with labels found to put in legend.  Note that artists whose label start with an underscore are ignored when legend() is called with no argument.\n"
     ]
    },
    {
     "name": "stdout",
     "output_type": "stream",
     "text": [
      "[[Model]]\n",
      "    Model(logistic_curve)\n",
      "[[Fit Statistics]]\n",
      "    # fitting method   = leastsq\n",
      "    # function evals   = 17\n",
      "    # data points      = 9\n",
      "    # variables        = 4\n",
      "    chi-square         = 266.000000\n",
      "    reduced chi-square = 53.2000000\n",
      "    Akaike info crit   = 38.4764456\n",
      "    Bayesian info crit = 39.2653439\n",
      "##  Warning: uncertainties could not be estimated:\n",
      "[[Variables]]\n",
      "    a:  125.457928 (init = 81)\n",
      "    b:  364.961984 (init = 20)\n",
      "    c:  0.15816566 (init = 0.01)\n",
      "    d:  71.3333333 (init = 60)\n"
     ]
    },
    {
     "data": {
      "image/png": "[encoded data removed]",
      "text/plain": [
       "<Figure size 432x288 with 1 Axes>"
      ]
     },
     "metadata": {
      "needs_background": "light"
     },
     "output_type": "display_data"
    }
   ],
   "source": [
    "def plot_csv_and_fit_logistic_curve(csv_file_path):\n",
    "    x_values = []\n",
    "    y_values = []\n",
    "\n",
    "    with open(csv_file_path, 'r') as csv_file:\n",
    "        csv_reader = csv.DictReader(csv_file)\n",
    "        for row in csv_reader:\n",
    "            # Assuming the CSV has columns 'x' and 'y', modify if needed\n",
    "            x_values.append(float(row['x']))\n",
    "            y_values.append(float(row['y']))\n",
    "\n",
    "    # Plotting the original data\n",
    "    plt.plot(x_values, y_values, marker='o', linestyle='', color = 'black')\n",
    "    plt.title('Niobium Day 2 Curiosity')\n",
    "    plt.xlabel('Temperature (K)')\n",
    "    plt.ylabel('Test Coil Voltage (mV)')\n",
    "    plt.grid(True)\n",
    "\n",
    "    # Define the logistic curve model function\n",
    "    def logistic_curve(x, a, b, c, d):\n",
    "        return a / (1 + np.exp(-c * (x - b))) + d\n",
    "\n",
    "    # Create a lmfit model using the logistic curve function\n",
    "    model = Model(logistic_curve)\n",
    "\n",
    "    # Set initial parameter values\n",
    "    params = model.make_params(a=max(y_values), b=20, c=0.01, d=min(y_values))\n",
    "\n",
    "    # Fit the model to the data\n",
    "    result = model.fit(y_values, params, x=x_values, method='leastsq')\n",
    "\n",
    "    # Print fitting results\n",
    "    print(result.fit_report())\n",
    "\n",
    "    # Plot the fitted logistic curve\n",
    "    x_fit = np.linspace(min(x_values), max(x_values), 100)\n",
    "    y_fit = result.eval(x=x_fit)\n",
    "    plt.plot(x_fit, y_fit, color='red')\n",
    "\n",
    "    plt.legend()\n",
    "    plt.show()\n",
    "\n",
    "# Replace 'temp_data_2_15.csv' with the path to your CSV file\n",
    "csv_file_path = 'niobium_2_cooling.csv'\n",
    "plot_csv_and_fit_logistic_curve(csv_file_path)"
   ]
  },
  {
   "cell_type": "code",
   "execution_count": 78,
   "metadata": {},
   "outputs": [
    {
     "name": "stderr",
     "output_type": "stream",
     "text": [
      "No artists with labels found to put in legend.  Note that artists whose label start with an underscore are ignored when legend() is called with no argument.\n"
     ]
    },
    {
     "name": "stdout",
     "output_type": "stream",
     "text": [
      "[[Model]]\n",
      "    Model(logistic_curve)\n",
      "[[Fit Statistics]]\n",
      "    # fitting method   = leastsq\n",
      "    # function evals   = 40\n",
      "    # data points      = 6\n",
      "    # variables        = 4\n",
      "    chi-square         = 314.833333\n",
      "    reduced chi-square = 157.416667\n",
      "    Akaike info crit   = 31.7617036\n",
      "    Bayesian info crit = 30.9287415\n",
      "##  Warning: uncertainties could not be estimated:\n",
      "[[Variables]]\n",
      "    a:  124.334257 (init = 80)\n",
      "    b:  359.113942 (init = 20)\n",
      "    c:  0.13610100 (init = 0.01)\n",
      "    d:  63.8333333 (init = 60)\n"
     ]
    },
    {
     "data": {
      "image/png": "[encoded data removed]",
      "text/plain": [
       "<Figure size 432x288 with 1 Axes>"
      ]
     },
     "metadata": {
      "needs_background": "light"
     },
     "output_type": "display_data"
    }
   ],
   "source": [
    "def plot_csv_and_fit_logistic_curve(csv_file_path):\n",
    "    x_values = []\n",
    "    y_values = []\n",
    "\n",
    "    with open(csv_file_path, 'r') as csv_file:\n",
    "        csv_reader = csv.DictReader(csv_file)\n",
    "        for row in csv_reader:\n",
    "            # Assuming the CSV has columns 'x' and 'y', modify if needed\n",
    "            x_values.append(float(row['x']))\n",
    "            y_values.append(float(row['y']))\n",
    "\n",
    "    # Plotting the original data\n",
    "    plt.plot(x_values, y_values, marker='o', linestyle='', color = 'black')\n",
    "    plt.title('Niobium Day 2 Heating')\n",
    "    plt.xlabel('Temperature (K)')\n",
    "    plt.ylabel('Test Coil Voltage (mV)')\n",
    "    plt.grid(True)\n",
    "\n",
    "    # Define the logistic curve model function\n",
    "    def logistic_curve(x, a, b, c, d):\n",
    "        return a / (1 + np.exp(-c * (x - b))) + d\n",
    "\n",
    "    # Create a lmfit model using the logistic curve function\n",
    "    model = Model(logistic_curve)\n",
    "\n",
    "    # Set initial parameter values\n",
    "    params = model.make_params(a=max(y_values), b=20, c=0.01, d=min(y_values))\n",
    "\n",
    "    # Fit the model to the data\n",
    "    result = model.fit(y_values, params, x=x_values, method='leastsq')\n",
    "\n",
    "    # Print fitting results\n",
    "    print(result.fit_report())\n",
    "\n",
    "    # Plot the fitted logistic curve\n",
    "    x_fit = np.linspace(min(x_values), max(x_values), 100)\n",
    "    y_fit = result.eval(x=x_fit)\n",
    "    plt.plot(x_fit, y_fit, color='red')\n",
    "\n",
    "    plt.legend()\n",
    "    plt.show()\n",
    "\n",
    "# Replace 'temp_data_2_15.csv' with the path to your CSV file\n",
    "csv_file_path = 'niobium_2_heating.csv'\n",
    "plot_csv_and_fit_logistic_curve(csv_file_path)"
   ]
  },
  {
   "cell_type": "code",
   "execution_count": 65,
   "metadata": {},
   "outputs": [
    {
     "name": "stderr",
     "output_type": "stream",
     "text": [
      "No artists with labels found to put in legend.  Note that artists whose label start with an underscore are ignored when legend() is called with no argument.\n"
     ]
    },
    {
     "name": "stdout",
     "output_type": "stream",
     "text": [
      "[[Model]]\n",
      "    Model(logistic_curve)\n",
      "[[Fit Statistics]]\n",
      "    # fitting method   = leastsq\n",
      "    # function evals   = 359\n",
      "    # data points      = 15\n",
      "    # variables        = 4\n",
      "    chi-square         = 3092.30772\n",
      "    reduced chi-square = 281.118884\n",
      "    Akaike info crit   = 87.9293409\n",
      "    Bayesian info crit = 90.7615417\n",
      "[[Variables]]\n",
      "    a:  127.232869 +/- 18.0605225 (14.19%) (init = 406)\n",
      "    b:  4.02863999 +/- 69776.0457 (1732000.03%) (init = 4)\n",
      "    c:  54.2225147 +/- 19216473.3 (35440026.03%) (init = 0.01)\n",
      "    d:  265.997901 +/- 17.1284238 (6.44%) (init = 266)\n",
      "[[Correlations]] (unreported correlations are < 0.100)\n",
      "    C(b, c) = -1.000\n",
      "    C(a, d) = -0.964\n",
      "    C(a, c) = -0.268\n",
      "    C(a, b) = 0.267\n",
      "    C(c, d) = 0.204\n",
      "    C(b, d) = -0.204\n"
     ]
    },
    {
     "data": {
      "image/png": "[encoded data removed]",
      "text/plain": [
       "<Figure size 432x288 with 1 Axes>"
      ]
     },
     "metadata": {
      "needs_background": "light"
     },
     "output_type": "display_data"
    }
   ],
   "source": [
    "\n",
    "\n",
    "def plot_csv_and_fit_logistic_curve(csv_file_path):\n",
    "    x_values = []\n",
    "    y_values = []\n",
    "\n",
    "    with open(csv_file_path, 'r') as csv_file:\n",
    "        csv_reader = csv.DictReader(csv_file)\n",
    "        for row in csv_reader:\n",
    "            # Assuming the CSV has columns 'x' and 'y', modify if needed\n",
    "            x_values.append(float(row['x']))\n",
    "            y_values.append(float(row['y']))\n",
    "\n",
    "    # Plotting the original data\n",
    "    plt.plot(x_values, y_values, marker='o', linestyle='', color = 'black')\n",
    "    plt.title('Vanadium Cooling Cycle')\n",
    "    plt.xlabel('Temperature (K)')\n",
    "    plt.ylabel('Test Coil Voltage (mV)')\n",
    "    plt.grid(True)\n",
    "\n",
    "    # Define the logistic curve model function\n",
    "    def logistic_curve(x, a, b, c, d):\n",
    "        return a / (1 + np.exp(-c * (x - b))) + d\n",
    "\n",
    "    # Create a lmfit model using the logistic curve function\n",
    "    model = Model(logistic_curve)\n",
    "\n",
    "    # Set initial parameter values\n",
    "    params = model.make_params(a=max(y_values), b=4, c=0.01, d=min(y_values))\n",
    "\n",
    "    # Fit the model to the data\n",
    "    result = model.fit(y_values, params, x=x_values, method='leastsq')\n",
    "\n",
    "    # Print fitting results\n",
    "    print(result.fit_report())\n",
    "\n",
    "    # Plot the fitted logistic curve\n",
    "    x_fit = np.linspace(min(x_values), max(x_values), 100)\n",
    "    y_fit = result.eval(x=x_fit)\n",
    "    plt.plot(x_fit, y_fit, color='red')\n",
    "\n",
    "    plt.legend()\n",
    "    plt.show()\n",
    "\n",
    "# Replace 'temp_data_2_15.csv' with the path to your CSV file\n",
    "csv_file_path = 'vanadium_data.csv'\n",
    "plot_csv_and_fit_logistic_curve(csv_file_path)"
   ]
  },
  {
   "cell_type": "code",
   "execution_count": 68,
   "metadata": {},
   "outputs": [
    {
     "name": "stderr",
     "output_type": "stream",
     "text": [
      "No artists with labels found to put in legend.  Note that artists whose label start with an underscore are ignored when legend() is called with no argument.\n"
     ]
    },
    {
     "name": "stdout",
     "output_type": "stream",
     "text": [
      "[[Model]]\n",
      "    Model(logistic_curve)\n",
      "[[Fit Statistics]]\n",
      "    # fitting method   = leastsq\n",
      "    # function evals   = 214\n",
      "    # data points      = 6\n",
      "    # variables        = 4\n",
      "    chi-square         = 976.300295\n",
      "    reduced chi-square = 488.150147\n",
      "    Akaike info crit   = 38.5520645\n",
      "    Bayesian info crit = 37.7191024\n",
      "[[Variables]]\n",
      "    a:  105.519274 +/- 27.0540324 (25.64%) (init = 402)\n",
      "    b:  7.70186146 +/- 0.26970794 (3.50%) (init = 4)\n",
      "    c:  3.47475602 +/- 3.41764764 (98.36%) (init = 0.01)\n",
      "    d:  296.066789 +/- 15.4049372 (5.20%) (init = 280)\n",
      "[[Correlations]] (unreported correlations are < 0.100)\n",
      "    C(a, d) = -0.577\n",
      "    C(c, d) = 0.509\n",
      "    C(a, c) = -0.380\n",
      "    C(b, d) = 0.311\n",
      "    C(a, b) = 0.196\n",
      "    C(b, c) = -0.188\n"
     ]
    },
    {
     "data": {
      "image/png": "[encoded data removed]",
      "text/plain": [
       "<Figure size 432x288 with 1 Axes>"
      ]
     },
     "metadata": {
      "needs_background": "light"
     },
     "output_type": "display_data"
    }
   ],
   "source": [
    "\n",
    "def plot_csv_and_fit_logistic_curve(csv_file_path):\n",
    "    x_values = []\n",
    "    y_values = []\n",
    "\n",
    "    with open(csv_file_path, 'r') as csv_file:\n",
    "        csv_reader = csv.DictReader(csv_file)\n",
    "        for row in csv_reader:\n",
    "            # Assuming the CSV has columns 'x' and 'y', modify if needed\n",
    "            x_values.append(float(row['x']))\n",
    "            y_values.append(float(row['y']))\n",
    "\n",
    "    # Plotting the original data\n",
    "    plt.plot(x_values, y_values, marker='o', linestyle='', color = 'black')\n",
    "    plt.title('Vanadium Heating Cycle')\n",
    "    plt.xlabel('Temperature (K)')\n",
    "    plt.ylabel('Test Coil Voltage (mV)')\n",
    "    plt.grid(True)\n",
    "\n",
    "    # Define the logistic curve model function\n",
    "    def logistic_curve(x, a, b, c, d):\n",
    "        return a / (1 + np.exp(-c * (x - b))) + d\n",
    "\n",
    "    # Create a lmfit model using the logistic curve function\n",
    "    model = Model(logistic_curve)\n",
    "\n",
    "    # Set initial parameter values\n",
    "    params = model.make_params(a=max(y_values), b=4, c=0.01, d=min(y_values))\n",
    "\n",
    "    # Fit the model to the data\n",
    "    result = model.fit(y_values, params, x=x_values, method='leastsq')\n",
    "\n",
    "    # Print fitting results\n",
    "    print(result.fit_report())\n",
    "\n",
    "    # Plot the fitted logistic curve\n",
    "    x_fit = np.linspace(min(x_values), max(x_values), 100)\n",
    "    y_fit = result.eval(x=x_fit)\n",
    "    plt.plot(x_fit, y_fit, color='red')\n",
    "\n",
    "    plt.legend()\n",
    "    plt.show()\n",
    "\n",
    "# Replace 'temp_data_2_15.csv' with the path to your CSV file\n",
    "csv_file_path = 'cooling_van_data.csv'\n",
    "plot_csv_and_fit_logistic_curve(csv_file_path)"
   ]
  },
  {
   "cell_type": "code",
   "execution_count": 69,
   "metadata": {},
   "outputs": [
    {
     "name": "stderr",
     "output_type": "stream",
     "text": [
      "No artists with labels found to put in legend.  Note that artists whose label start with an underscore are ignored when legend() is called with no argument.\n"
     ]
    },
    {
     "name": "stdout",
     "output_type": "stream",
     "text": [
      "[[Model]]\n",
      "    Model(logistic_curve)\n",
      "[[Fit Statistics]]\n",
      "    # fitting method   = leastsq\n",
      "    # function evals   = 2054\n",
      "    # data points      = 22\n",
      "    # variables        = 4\n",
      "    chi-square         = 452.933158\n",
      "    reduced chi-square = 25.1629532\n",
      "    Akaike info crit   = 74.5434463\n",
      "    Bayesian info crit = 78.9076162\n",
      "[[Variables]]\n",
      "    a:  299626.343 +/- 3.6335e+08 (121266.13%) (init = 390)\n",
      "    b: -227.694543 +/- 36127.8513 (15866.81%) (init = 17)\n",
      "    c:  0.03366718 +/- 0.01415121 (42.03%) (init = 0.4)\n",
      "    d: -299234.271 +/- 3.6335e+08 (121425.02%) (init = 260)\n",
      "[[Correlations]] (unreported correlations are < 0.100)\n",
      "    C(a, d) = -1.000\n",
      "    C(b, d) = 1.000\n",
      "    C(a, b) = -1.000\n",
      "    C(b, c) = 0.978\n",
      "    C(c, d) = 0.978\n",
      "    C(a, c) = -0.978\n"
     ]
    },
    {
     "data": {
      "image/png": "[encoded data removed]",
      "text/plain": [
       "<Figure size 432x288 with 1 Axes>"
      ]
     },
     "metadata": {
      "needs_background": "light"
     },
     "output_type": "display_data"
    }
   ],
   "source": [
    "\n",
    "\n",
    "def plot_csv_and_fit_logistic_curve(csv_file_path):\n",
    "    x_values = []\n",
    "    y_values = []\n",
    "\n",
    "    with open(csv_file_path, 'r') as csv_file:\n",
    "        csv_reader = csv.DictReader(csv_file)\n",
    "        for row in csv_reader:\n",
    "            # Assuming the CSV has columns 'x' and 'y', modify if needed\n",
    "            x_values.append(float(row['x']))\n",
    "            y_values.append(float(row['y']))\n",
    "\n",
    "    # Plotting the original data\n",
    "    plt.plot(x_values, y_values, marker='o', linestyle='', color = 'black')\n",
    "    plt.title('Lead Cooling Cycle')\n",
    "    plt.xlabel('Temperature (K)')\n",
    "    plt.ylabel('Test Coil Voltage (mV)')\n",
    "    plt.grid(True)\n",
    "\n",
    "    # Define the logistic curve model function\n",
    "    def logistic_curve(x, a, b, c, d):\n",
    "        return a / (1 + np.exp(-c * (x - b))) + d\n",
    "\n",
    "    # Create a lmfit model using the logistic curve function\n",
    "    model = Model(logistic_curve)\n",
    "\n",
    "    # Set initial parameter values\n",
    "    params = model.make_params(a=max(y_values), b=17, c=0.4, d=min(y_values))\n",
    "\n",
    "    # Fit the model to the data\n",
    "    result = model.fit(y_values, params, x=x_values, method='leastsq')\n",
    "\n",
    "    # Print fitting results\n",
    "    print(result.fit_report())\n",
    "\n",
    "    # Plot the fitted logistic curve\n",
    "    x_fit = np.linspace(min(x_values), max(x_values), 100)\n",
    "    y_fit = result.eval(x=x_fit)\n",
    "    plt.plot(x_fit, y_fit, color='red')\n",
    "\n",
    "    plt.legend()\n",
    "    plt.show()\n",
    "\n",
    "# Replace 'temp_data_2_15.csv' with the path to your CSV file\n",
    "csv_file_path = 'lead_data.csv'\n",
    "plot_csv_and_fit_logistic_curve(csv_file_path)"
   ]
  },
  {
   "cell_type": "code",
   "execution_count": 70,
   "metadata": {},
   "outputs": [
    {
     "name": "stderr",
     "output_type": "stream",
     "text": [
      "No artists with labels found to put in legend.  Note that artists whose label start with an underscore are ignored when legend() is called with no argument.\n"
     ]
    },
    {
     "name": "stdout",
     "output_type": "stream",
     "text": [
      "[[Model]]\n",
      "    Model(logistic_curve)\n",
      "[[Fit Statistics]]\n",
      "    # fitting method   = leastsq\n",
      "    # function evals   = 31\n",
      "    # data points      = 18\n",
      "    # variables        = 4\n",
      "    chi-square         = 1890.19912\n",
      "    reduced chi-square = 135.014223\n",
      "    Akaike info crit   = 91.7731826\n",
      "    Bayesian info crit = 95.3346696\n",
      "[[Variables]]\n",
      "    a:  130.873626 +/- 7.95962965 (6.08%) (init = 398)\n",
      "    b:  17.7877263 +/- 0.35858435 (2.02%) (init = 17)\n",
      "    c:  0.55922736 +/- 0.12178514 (21.78%) (init = 0.4)\n",
      "    d:  264.172249 +/- 5.16055284 (1.95%) (init = 264)\n",
      "[[Correlations]] (unreported correlations are < 0.100)\n",
      "    C(a, d) = -0.681\n",
      "    C(b, d) = 0.467\n",
      "    C(a, c) = -0.439\n",
      "    C(c, d) = 0.394\n",
      "    C(b, c) = 0.131\n"
     ]
    },
    {
     "data": {
      "image/png": "[encoded data removed]",
      "text/plain": [
       "<Figure size 432x288 with 1 Axes>"
      ]
     },
     "metadata": {
      "needs_background": "light"
     },
     "output_type": "display_data"
    }
   ],
   "source": [
    "\n",
    "def plot_csv_and_fit_logistic_curve(csv_file_path):\n",
    "    x_values = []\n",
    "    y_values = []\n",
    "\n",
    "    with open(csv_file_path, 'r') as csv_file:\n",
    "        csv_reader = csv.DictReader(csv_file)\n",
    "        for row in csv_reader:\n",
    "            # Assuming the CSV has columns 'x' and 'y', modify if needed\n",
    "            x_values.append(float(row['x']))\n",
    "            y_values.append(float(row['y']))\n",
    "\n",
    "    # Plotting the original data\n",
    "    plt.plot(x_values, y_values, marker='o', linestyle='', color = 'black')\n",
    "    plt.title('Lead Heating Cycle')\n",
    "    plt.xlabel('Temperature (K)')\n",
    "    plt.ylabel('Test Coil Voltage (mV)')\n",
    "    plt.grid(True)\n",
    "\n",
    "    # Define the logistic curve model function\n",
    "    def logistic_curve(x, a, b, c, d):\n",
    "        return a / (1 + np.exp(-c * (x - b))) + d\n",
    "\n",
    "    # Create a lmfit model using the logistic curve function\n",
    "    model = Model(logistic_curve)\n",
    "\n",
    "    # Set initial parameter values\n",
    "    params = model.make_params(a=max(y_values), b=17, c=0.4, d=min(y_values))\n",
    "\n",
    "    # Fit the model to the data\n",
    "    result = model.fit(y_values, params, x=x_values, method='leastsq')\n",
    "\n",
    "    # Print fitting results\n",
    "    print(result.fit_report())\n",
    "\n",
    "    # Plot the fitted logistic curve\n",
    "    x_fit = np.linspace(min(x_values), max(x_values), 100)\n",
    "    y_fit = result.eval(x=x_fit)\n",
    "    plt.plot(x_fit, y_fit, color='red')\n",
    "\n",
    "    plt.legend()\n",
    "    plt.show()\n",
    "\n",
    "# Replace 'temp_data_2_15.csv' with the path to your CSV file\n",
    "csv_file_path = 'lead_data_heating.csv'\n",
    "plot_csv_and_fit_logistic_curve(csv_file_path)"
   ]
  },
  {
   "cell_type": "code",
   "execution_count": 58,
   "metadata": {},
   "outputs": [
    {
     "name": "stderr",
     "output_type": "stream",
     "text": [
      "No artists with labels found to put in legend.  Note that artists whose label start with an underscore are ignored when legend() is called with no argument.\n"
     ]
    },
    {
     "name": "stdout",
     "output_type": "stream",
     "text": [
      "[[Model]]\n",
      "    Model(logistic_curve)\n",
      "[[Fit Statistics]]\n",
      "    # fitting method   = leastsq\n",
      "    # function evals   = 354\n",
      "    # data points      = 9\n",
      "    # variables        = 4\n",
      "    chi-square         = 901.415477\n",
      "    reduced chi-square = 180.283095\n",
      "    Akaike info crit   = 49.4606753\n",
      "    Bayesian info crit = 50.2495736\n",
      "[[Variables]]\n",
      "    a:  38.8391514 +/- 12.0702845 (31.08%) (init = 250)\n",
      "    b:  6.73877609 +/- 0.26808396 (3.98%) (init = 17)\n",
      "    c:  5.58230778 +/- 6.72805863 (120.52%) (init = 0.4)\n",
      "    d:  189.384635 +/- 9.04822910 (4.78%) (init = 180)\n",
      "[[Correlations]] (unreported correlations are < 0.100)\n",
      "    C(a, d) = -0.797\n",
      "    C(a, c) = -0.530\n",
      "    C(b, d) = 0.449\n",
      "    C(c, d) = 0.448\n",
      "    C(a, b) = -0.134\n"
     ]
    },
    {
     "data": {
      "image/png": "[encoded data removed]",
      "text/plain": [
       "<Figure size 432x288 with 1 Axes>"
      ]
     },
     "metadata": {
      "needs_background": "light"
     },
     "output_type": "display_data"
    }
   ],
   "source": [
    "\n",
    "def plot_csv_and_fit_logistic_curve(csv_file_path):\n",
    "    x_values = []\n",
    "    y_values = []\n",
    "\n",
    "    with open(csv_file_path, 'r') as csv_file:\n",
    "        csv_reader = csv.DictReader(csv_file)\n",
    "        for row in csv_reader:\n",
    "            # Assuming the CSV has columns 'x' and 'y', modify if needed\n",
    "            x_values.append(float(row['x']))\n",
    "            y_values.append(float(row['y']))\n",
    "\n",
    "    # Plotting the original data\n",
    "    plt.plot(x_values, y_values, marker='o', linestyle='', color = 'black')\n",
    "    plt.title('Vanadium')\n",
    "    plt.xlabel('Temperature (K)')\n",
    "    plt.ylabel('Test Coil Voltage (mV)')\n",
    "    plt.grid(True)\n",
    "\n",
    "    # Define the logistic curve model function\n",
    "    def logistic_curve(x, a, b, c, d):\n",
    "        return a / (1 + np.exp(-c * (x - b))) + d\n",
    "\n",
    "    # Create a lmfit model using the logistic curve function\n",
    "    model = Model(logistic_curve)\n",
    "\n",
    "    # Set initial parameter values\n",
    "    params = model.make_params(a=max(y_values), b=17, c=0.4, d=min(y_values))\n",
    "\n",
    "    # Fit the model to the data\n",
    "    result = model.fit(y_values, params, x=x_values, method='leastsq')\n",
    "\n",
    "    # Print fitting results\n",
    "    print(result.fit_report())\n",
    "\n",
    "    # Plot the fitted logistic curve\n",
    "    x_fit = np.linspace(min(x_values), max(x_values), 100)\n",
    "    y_fit = result.eval(x=x_fit)\n",
    "    plt.plot(x_fit, y_fit, color='red')\n",
    "\n",
    "    plt.legend()\n",
    "    plt.show()\n",
    "\n",
    "# Replace 'temp_data_2_15.csv' with the path to your CSV file\n",
    "csv_file_path = 'van_data.csv'\n",
    "plot_csv_and_fit_logistic_curve(csv_file_path)"
   ]
  },
  {
   "cell_type": "code",
   "execution_count": 32,
   "metadata": {},
   "outputs": [
    {
     "name": "stderr",
     "output_type": "stream",
     "text": [
      "No artists with labels found to put in legend.  Note that artists whose label start with an underscore are ignored when legend() is called with no argument.\n"
     ]
    },
    {
     "name": "stdout",
     "output_type": "stream",
     "text": [
      "[[Model]]\n",
      "    Model(logistic_curve)\n",
      "[[Fit Statistics]]\n",
      "    # fitting method   = leastsq\n",
      "    # function evals   = 69\n",
      "    # data points      = 19\n",
      "    # variables        = 4\n",
      "    chi-square         = 855.767632\n",
      "    reduced chi-square = 57.0511754\n",
      "    Akaike info crit   = 80.3436381\n",
      "    Bayesian info crit = 84.1213941\n",
      "[[Variables]]\n",
      "    a:  84.7140373 +/- 13.5196167 (15.96%) (init = 262)\n",
      "    b:  31.3991095 +/- 3.74471990 (11.93%) (init = 17)\n",
      "    c:  0.09729413 +/- 0.03624096 (37.25%) (init = 0.4)\n",
      "    d:  178.036810 +/- 9.18859269 (5.16%) (init = 178)\n",
      "[[Correlations]] (unreported correlations are < 0.100)\n",
      "    C(c, d) = 0.915\n",
      "    C(a, c) = -0.848\n",
      "    C(a, d) = -0.817\n",
      "    C(b, d) = 0.610\n",
      "    C(b, c) = 0.347\n",
      "    C(a, b) = -0.150\n"
     ]
    },
    {
     "data": {
      "image/png": "[encoded data removed]",
      "text/plain": [
       "<Figure size 432x288 with 1 Axes>"
      ]
     },
     "metadata": {
      "needs_background": "light"
     },
     "output_type": "display_data"
    }
   ],
   "source": [
    "\n",
    "def plot_csv_and_fit_logistic_curve(csv_file_path):\n",
    "    x_values = []\n",
    "    y_values = []\n",
    "\n",
    "    with open(csv_file_path, 'r') as csv_file:\n",
    "        csv_reader = csv.DictReader(csv_file)\n",
    "        for row in csv_reader:\n",
    "            # Assuming the CSV has columns 'x' and 'y', modify if needed\n",
    "            x_values.append(float(row['x']))\n",
    "            y_values.append(float(row['y']))\n",
    "\n",
    "    # Plotting the original data\n",
    "    plt.plot(x_values, y_values, marker='o', linestyle='', color = 'black')\n",
    "    plt.title('Lead')\n",
    "    plt.xlabel('Temperature (K)')\n",
    "    plt.ylabel('Test Coil Voltage (mV)')\n",
    "    plt.grid(True)\n",
    "\n",
    "    # Define the logistic curve model function\n",
    "    def logistic_curve(x, a, b, c, d):\n",
    "        return a / (1 + np.exp(-c * (x - b))) + d\n",
    "\n",
    "    # Create a lmfit model using the logistic curve function\n",
    "    model = Model(logistic_curve)\n",
    "\n",
    "    # Set initial parameter values\n",
    "    params = model.make_params(a=max(y_values), b=17, c=0.4, d=min(y_values))\n",
    "\n",
    "    # Fit the model to the data\n",
    "    result = model.fit(y_values, params, x=x_values, method='leastsq')\n",
    "\n",
    "    # Print fitting results\n",
    "    print(result.fit_report())\n",
    "\n",
    "    # Plot the fitted logistic curve\n",
    "    x_fit = np.linspace(min(x_values), max(x_values), 100)\n",
    "    y_fit = result.eval(x=x_fit)\n",
    "    plt.plot(x_fit, y_fit, color='red')\n",
    "\n",
    "    plt.legend()\n",
    "    plt.show()\n",
    "\n",
    "# Replace 'temp_data_2_15.csv' with the path to your CSV file\n",
    "csv_file_path = 'lead_tc_data.csv'\n",
    "plot_csv_and_fit_logistic_curve(csv_file_path)"
   ]
  },
  {
   "cell_type": "code",
   "execution_count": 35,
   "metadata": {},
   "outputs": [
    {
     "name": "stderr",
     "output_type": "stream",
     "text": [
      "No artists with labels found to put in legend.  Note that artists whose label start with an underscore are ignored when legend() is called with no argument.\n"
     ]
    },
    {
     "name": "stdout",
     "output_type": "stream",
     "text": [
      "[[Model]]\n",
      "    Model(logistic_curve)\n",
      "[[Fit Statistics]]\n",
      "    # fitting method   = leastsq\n",
      "    # function evals   = 185\n",
      "    # data points      = 5\n",
      "    # variables        = 4\n",
      "    chi-square         = 547.000114\n",
      "    reduced chi-square = 547.000114\n",
      "    Akaike info crit   = 31.4750555\n",
      "    Bayesian info crit = 29.9128071\n",
      "[[Variables]]\n",
      "    a:  159.274380 +/- 9.0545e+09 (5684842954.61%) (init = 200)\n",
      "    b:  18.9344102 +/- 33107901.8 (174855733.68%) (init = 17)\n",
      "    c:  2.09232878 +/- 1412854.16 (67525437.46%) (init = 0.4)\n",
      "    d:  173.499976 +/- 89.6985722 (51.70%) (init = 162)\n",
      "[[Correlations]] (unreported correlations are < 0.100)\n",
      "    C(a, b) = 1.000\n",
      "    C(b, c) = -0.990\n",
      "    C(a, c) = -0.990\n",
      "    C(a, d) = 0.913\n",
      "    C(b, d) = 0.912\n",
      "    C(c, d) = -0.848\n"
     ]
    },
    {
     "data": {
      "image/png": "[encoded data removed]",
      "text/plain": [
       "<Figure size 432x288 with 1 Axes>"
      ]
     },
     "metadata": {
      "needs_background": "light"
     },
     "output_type": "display_data"
    }
   ],
   "source": [
    "\n",
    "def plot_csv_and_fit_logistic_curve(csv_file_path):\n",
    "    x_values = []\n",
    "    y_values = []\n",
    "\n",
    "    with open(csv_file_path, 'r') as csv_file:\n",
    "        csv_reader = csv.DictReader(csv_file)\n",
    "        for row in csv_reader:\n",
    "            # Assuming the CSV has columns 'x' and 'y', modify if needed\n",
    "            x_values.append(float(row['x']))\n",
    "            y_values.append(float(row['y']))\n",
    "\n",
    "    # Plotting the original data\n",
    "    plt.plot(x_values, y_values, marker='o', linestyle='', color = 'black')\n",
    "    plt.title('Niobium')\n",
    "    plt.xlabel('Temperature (K)')\n",
    "    plt.ylabel('Test Coil Voltage (mV)')\n",
    "    plt.grid(True)\n",
    "\n",
    "    # Define the logistic curve model function\n",
    "    def logistic_curve(x, a, b, c, d):\n",
    "        return a / (1 + np.exp(-c * (x - b))) + d\n",
    "\n",
    "    # Create a lmfit model using the logistic curve function\n",
    "    model = Model(logistic_curve)\n",
    "\n",
    "    # Set initial parameter values\n",
    "    params = model.make_params(a=max(y_values), b=17, c=0.4, d=min(y_values))\n",
    "\n",
    "    # Fit the model to the data\n",
    "    result = model.fit(y_values, params, x=x_values, method='leastsq')\n",
    "\n",
    "    # Print fitting results\n",
    "    print(result.fit_report())\n",
    "\n",
    "    # Plot the fitted logistic curve\n",
    "    # x_fit = np.linspace(min(x_values), max(x_values), 100)\n",
    "    # y_fit = result.eval(x=x_fit)\n",
    "    # plt.plot(x_fit, y_fit, color='red')\n",
    "\n",
    "    plt.legend()\n",
    "    plt.show()\n",
    "\n",
    "# Replace 'temp_data_2_15.csv' with the path to your CSV file\n",
    "csv_file_path = 'nio_4_data.csv'\n",
    "plot_csv_and_fit_logistic_curve(csv_file_path)"
   ]
  },
  {
   "cell_type": "code",
   "execution_count": 53,
   "metadata": {},
   "outputs": [
    {
     "name": "stderr",
     "output_type": "stream",
     "text": [
      "No artists with labels found to put in legend.  Note that artists whose label start with an underscore are ignored when legend() is called with no argument.\n"
     ]
    },
    {
     "name": "stdout",
     "output_type": "stream",
     "text": [
      "[[Model]]\n",
      "    Model(logistic_curve)\n",
      "[[Fit Statistics]]\n",
      "    # fitting method   = leastsq\n",
      "    # function evals   = 29\n",
      "    # data points      = 59\n",
      "    # variables        = 4\n",
      "    chi-square         = 1.3797e-05\n",
      "    reduced chi-square = 2.5085e-07\n",
      "    Akaike info crit   = -892.848878\n",
      "    Bayesian info crit = -884.538728\n",
      "##  Warning: uncertainties could not be estimated:\n",
      "    b:  at initial value\n",
      "    c:  at initial value\n",
      "[[Variables]]\n",
      "    a: -48.1285711 (init = 0.009)\n",
      "    b:  17.0000000 (init = 17)\n",
      "    c:  0.40000000 (init = 0.4)\n",
      "    d:  48.1371981 (init = 0.008)\n"
     ]
    },
    {
     "data": {
      "image/png": "[encoded data removed]",
      "text/plain": [
       "<Figure size 432x288 with 1 Axes>"
      ]
     },
     "metadata": {
      "needs_background": "light"
     },
     "output_type": "display_data"
    }
   ],
   "source": [
    "def plot_csv_and_fit_logistic_curve(csv_file_path):\n",
    "    x_values = []\n",
    "    y_values = []\n",
    "\n",
    "    with open(csv_file_path, 'r') as csv_file:\n",
    "        csv_reader = csv.DictReader(csv_file)\n",
    "        for row in csv_reader:\n",
    "            # Assuming the CSV has columns 'x' and 'y', modify if needed\n",
    "            x_values.append(float(row['x']))\n",
    "            y_values.append(float(row['y']))\n",
    "\n",
    "    # Plotting the original data\n",
    "    plt.plot(x_values, y_values, marker='o', linestyle='', color = 'black')\n",
    "    plt.title('Hall Current Across the Superconducting Transition')\n",
    "    plt.xlabel('Thermometer Resistance ($\\Omega$)')\n",
    "    plt.ylabel('Hall Voltage (mV)')\n",
    "    plt.grid(True)\n",
    "\n",
    "    # Define the logistic curve model function\n",
    "    def logistic_curve(x, a, b, c, d):\n",
    "        return a / (1 + np.exp(-c * (x - b))) + d\n",
    "\n",
    "    # Create a lmfit model using the logistic curve function\n",
    "    model = Model(logistic_curve)\n",
    "\n",
    "    # Set initial parameter values\n",
    "    params = model.make_params(a=max(y_values), b=17, c=0.4, d=min(y_values))\n",
    "\n",
    "    # Fit the model to the data\n",
    "    result = model.fit(y_values, params, x=x_values, method='leastsq')\n",
    "\n",
    "    # Print fitting results\n",
    "    print(result.fit_report())\n",
    "\n",
    "    # Plot the fitted logistic curve\n",
    "    # x_fit = np.linspace(min(x_values), max(x_values), 100)\n",
    "    # y_fit = result.eval(x=x_fit)\n",
    "    # plt.plot(x_fit, y_fit, color='red')\n",
    "\n",
    "    plt.legend()\n",
    "    plt.show()\n",
    "\n",
    "# Replace 'temp_data_2_15.csv' with the path to your CSV file\n",
    "csv_file_path = 'heating_cycle_probe_2.csv'\n",
    "plot_csv_and_fit_logistic_curve(csv_file_path)"
   ]
  },
  {
   "cell_type": "code",
   "execution_count": 55,
   "metadata": {},
   "outputs": [
    {
     "name": "stdout",
     "output_type": "stream",
     "text": [
      "[[Model]]\n",
      "    Model(logistic_curve)\n",
      "[[Fit Statistics]]\n",
      "    # fitting method   = leastsq\n",
      "    # function evals   = 74\n",
      "    # data points      = 14\n",
      "    # variables        = 4\n",
      "    chi-square         = 1.5821e-06\n",
      "    reduced chi-square = 1.5821e-07\n",
      "    Akaike info crit   = -215.941147\n",
      "    Bayesian info crit = -213.384918\n",
      "[[Variables]]\n",
      "    a:  0.00919057 +/- 4.2475e-04 (4.62%) (init = 1)\n",
      "    b:  2594.87034 +/- 3.48753016 (0.13%) (init = 2550)\n",
      "    c:  0.03665127 +/- 0.00454626 (12.40%) (init = 0.1)\n",
      "    d: -3.2884e-04 +/- 3.5118e-04 (106.79%) (init = 0)\n",
      "[[Correlations]] (unreported correlations are < 0.100)\n",
      "    C(a, d) = -0.894\n",
      "    C(a, c) = -0.666\n",
      "    C(b, d) = 0.658\n",
      "    C(c, d) = 0.586\n",
      "    C(a, b) = -0.398\n",
      "    C(b, c) = 0.174\n"
     ]
    },
    {
     "data": {
      "image/png": "[encoded data removed]",
      "text/plain": [
       "<Figure size 432x288 with 1 Axes>"
      ]
     },
     "metadata": {
      "needs_background": "light"
     },
     "output_type": "display_data"
    }
   ],
   "source": [
    "\n",
    "def plot_csv_and_fit_logistic_curve(csv_file_path):\n",
    "    x_values = []\n",
    "    y_values = []\n",
    "\n",
    "    with open(csv_file_path, 'r') as csv_file:\n",
    "        csv_reader = csv.DictReader(csv_file)\n",
    "        for row in csv_reader:\n",
    "            # Assuming the CSV has columns 'x' and 'y', modify if needed\n",
    "            x_values.append(float(row['x']))\n",
    "            y_values.append(float(row['y']))\n",
    "\n",
    "    # Normalize y-values between 0 and 1\n",
    "    # y_values_normalized = (np.array(y_values) - min(y_values)) / (max(y_values) - min(y_values))\n",
    "\n",
    "    # Plotting the original data\n",
    "    plt.plot(x_values, y_values, marker='o', linestyle='', color='black')\n",
    "    plt.title('Dissipation of the Persistent Current')\n",
    "    plt.xlabel('Thermometer Resistance ($\\Omega$)')\n",
    "    plt.ylabel('Hall Voltage (mV)')\n",
    "    plt.grid(True)\n",
    "\n",
    "    # Define the logistic curve model function\n",
    "    def logistic_curve(x, a, b, c, d):\n",
    "        return a / (1 + np.exp(-c * (x - b))) + d\n",
    "\n",
    "    # Create a lmfit model using the logistic curve function\n",
    "    model = Model(logistic_curve)\n",
    "\n",
    "    # Set initial parameter values\n",
    "    params = model.make_params(a=1, b=2550, c=0.1, d=0)\n",
    "\n",
    "    # Fit the model to the data\n",
    "    result = model.fit(y_values, params, x=x_values, method='leastsq')\n",
    "\n",
    "    # Print fitting results\n",
    "    print(result.fit_report())\n",
    "\n",
    "    # Plot the fitted logistic curve\n",
    "    x_fit = np.linspace(min(x_values), max(x_values), 100)\n",
    "    y_fit = result.eval(x=x_fit)\n",
    "    plt.plot(x_fit, y_fit, color='red', label='Fit')\n",
    "\n",
    "    plt.legend()\n",
    "    plt.show()\n",
    "\n",
    "# Replace 'heating_cycle_probe_2.csv' with the path to your CSV file\n",
    "csv_file_path = 'heating_cycle_act.csv'\n",
    "plot_csv_and_fit_logistic_curve(csv_file_path)"
   ]
  },
  {
   "cell_type": "code",
   "execution_count": null,
   "metadata": {},
   "outputs": [],
   "source": []
  }
 ],
 "metadata": {
  "kernelspec": {
   "display_name": "base",
   "language": "python",
   "name": "python3"
  },
  "language_info": {
   "codemirror_mode": {
    "name": "ipython",
    "version": 3
   },
   "file_extension": ".py",
   "mimetype": "text/x-python",
   "name": "python",
   "nbconvert_exporter": "python",
   "pygments_lexer": "ipython3",
   "version": "3.9.12"
  }
 },
 "nbformat": 4,
 "nbformat_minor": 2
}
